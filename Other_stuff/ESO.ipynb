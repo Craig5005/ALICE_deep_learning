{
 "cells": [
  {
   "cell_type": "code",
   "execution_count": 1,
   "metadata": {},
   "outputs": [
    {
     "name": "stderr",
     "output_type": "stream",
     "text": [
      "Using TensorFlow backend.\n"
     ]
    }
   ],
   "source": [
    "from sklearn.metrics import mean_squared_error\n",
    "from sklearn.preprocessing import MinMaxScaler\n",
    "from keras.models import Sequential, load_model, Model\n",
    "from keras.layers import Dense, Dropout, LSTM, Flatten, Activation\n",
    "from keras.layers import LSTM, Input\n",
    "from math import sqrt\n",
    "from matplotlib import pyplot as plt\n",
    "from numpy import array\n",
    "from keras.layers.convolutional import Conv1D, MaxPooling1D\n",
    "import keras.backend as keras\n",
    "import tensorflow as tf\n",
    "import numpy as np\n",
    "import pandas as pd\n",
    "import os\n",
    "import shutil\n",
    "import time\n",
    "import bisect\n",
    "import random\n",
    "import functions as fns"
   ]
  },
  {
   "cell_type": "code",
   "execution_count": 2,
   "metadata": {},
   "outputs": [],
   "source": [
    "def process_data(dataset):\n",
    "\tdata = os.getcwd()+'/'+str(dataset)+'.csv'\n",
    "\tdata = pd.read_csv(data)\n",
    "\tdata = np.array(data)\n",
    "\tdata = data[2:,:]\n",
    "\tdata = data[:,1]\n",
    "\tdata = data.astype(np.float)\n",
    "\treturn data\n",
    "\n",
    "def create_dataset(dataset, look_back):\n",
    "\tdataX, dataY = [], []\n",
    "\tfor i in range(len(dataset) - look_back - 1):\n",
    "\t\ta = dataset[i:(i+look_back)]\n",
    "\t\tdataX.append(a)\n",
    "\t\tdataY.append(dataset[i+look_back])\n",
    "\treturn np.array(dataX), np.array(dataY)\n",
    "\n",
    "def expMa(data, window):\n",
    "\n",
    "    alpha = 2 /(window + 1.0)\n",
    "    alpha_rev = 1-alpha\n",
    "    n = data.shape[0]\n",
    "\n",
    "    pows = alpha_rev**(np.arange(n+1))\n",
    "\n",
    "    scale_arr = 1/pows[:-1]\n",
    "    offset = data[0]*pows[1:]\n",
    "    pw0 = alpha*alpha_rev**(n-1)\n",
    "\n",
    "    mult = data*pw0*scale_arr\n",
    "    cumsums = mult.cumsum()\n",
    "    out = offset + cumsums*scale_arr[::-1]\n",
    "    return out"
   ]
  },
  {
   "cell_type": "code",
   "execution_count": 3,
   "metadata": {},
   "outputs": [],
   "source": [
    "look_back = 10\n",
    "input_shape = (look_back, 1)\n",
    "activations = ['relu']\n",
    "filter_sizes = [256, 512, 1024]\n",
    "kernel_sizes = [1, 2, 3]\n",
    "pool_sizes = [1, 2, 3]\n",
    "dense_sizes = [10, 50, 100]\n",
    "dense_size = np.random.choice(dense_sizes)\n",
    "\n",
    "visible = Input(shape=input_shape)"
   ]
  },
  {
   "cell_type": "code",
   "execution_count": 4,
   "metadata": {},
   "outputs": [],
   "source": [
    "def layer_struct():\n",
    "    return [np.random.choice(filter_sizes),\n",
    "            np.random.choice(kernel_sizes),\n",
    "            np.random.choice(range(len(activation_dict))),\n",
    "            np.random.choice(pool_sizes),\n",
    "            np.random.rand(),dense_size]\n",
    "activation_dict = {\n",
    "    str(0): 'relu',\n",
    "    str(1): 'elu',\n",
    "    str(2): 'sigmoid',\n",
    "    str(3): 'tanh'\n",
    "}"
   ]
  },
  {
   "cell_type": "code",
   "execution_count": null,
   "metadata": {},
   "outputs": [],
   "source": []
  },
  {
   "cell_type": "code",
   "execution_count": 5,
   "metadata": {},
   "outputs": [],
   "source": [
    "def build_CNN_(layers, filter_sizes, activations, dense_sizes):\n",
    "    look_back = 10\n",
    "    input_shape = (look_back, 1)\n",
    "    #activations = ['relu']\n",
    "    #filter_sizes = [256, 512, 1024]\n",
    "    kernel_sizes = [1, 2, 3]\n",
    "    pool_sizes = [1, 2, 3]\n",
    "    #dense_sizes = [10, 50, 100]\n",
    "    \n",
    "    dense_size = np.random.choice(dense_sizes)\n",
    "    #layers = np.random.randint(3,7)\n",
    "    Architecture = np.zeros([layers,6])\n",
    "    \n",
    "    structure = [np.random.choice(filter_sizes),\n",
    "                       np.random.choice(kernel_sizes),\n",
    "                       np.random.choice(range(len(activation_dict))),\n",
    "                       np.random.choice(pool_sizes),\n",
    "                       np.random.rand(),dense_size]\n",
    "    Architecture[0] = structure\n",
    "    x = Conv1D(filters=structure[0], kernel_size=(structure[1],), padding='same')(visible)\n",
    "    x = Activation(activation_dict[str(structure[2])])(x)\n",
    "    x = MaxPooling1D(pool_size=(structure[3],))(x)\n",
    "    x = Dropout(structure[4])(x)\n",
    "    \n",
    "    flag = 0\n",
    "    if layers > 1:\n",
    "        while flag == 0:\n",
    "            try:\n",
    "                for i in range(1,layers):\n",
    "                    structure = [np.random.choice(filter_sizes),\n",
    "                                 np.random.choice(kernel_sizes),\n",
    "                                 np.random.choice(range(len(activation_dict))),\n",
    "                                 np.random.choice(pool_sizes),\n",
    "                                 np.random.rand(),dense_size]\n",
    "                    x = Conv1D(filters=structure[0], kernel_size=(structure[1],), padding='same')(x)\n",
    "                    x = Activation(activation_dict[str(structure[2])])(x)\n",
    "                    x = MaxPooling1D(pool_size=(structure[3],))(x)\n",
    "                    x = Dropout(structure[4])(x)\n",
    "                    Architecture[i] = structure\n",
    "                    flag = 1\n",
    "            except Exception:\n",
    "                pass\n",
    "    x = Flatten()(x)\n",
    "    x = Dense(dense_size, activation='relu')(x)\n",
    "    x = Dense(1, activation='relu')(x)\n",
    "    model = Model(inputs=visible, outputs=x)\n",
    "    return model, Architecture"
   ]
  },
  {
   "cell_type": "code",
   "execution_count": 6,
   "metadata": {},
   "outputs": [],
   "source": [
    "def build_CNN(i):\n",
    "    activations = ['relu', 'elu', 'sigmoid', 'tanh']\n",
    "    filter_sizes = [64, 128, 256, 512, 1024]\n",
    "    kernel_sizes = [1, 2, 3]\n",
    "    pool_sizes = [1, 2, 3]\n",
    "    dense_sizes = [10, 50, 100]\n",
    "    layers = np.random.randint(2,10)\n",
    "    dropout = np.random.rand()\n",
    "    \n",
    "    try:\n",
    "        length = np.random.randint(2,10)        \n",
    "        model = Sequential()\n",
    "        model.add(Conv1D(filters=np.random.choice(filter_sizes), kernel_size=np.random.choice(kernel_sizes), padding='same', input_shape=(look_back, 1), name='CNN_input'+str(i)))\n",
    "        model.add(Activation(np.random.choice(activations)))\n",
    "        model.add(MaxPooling1D(pool_size=np.random.choice(pool_sizes)))\n",
    "\n",
    "        #for _ in range(layers):\n",
    "        #    model.add(Conv1D(filters=np.random.choice(filter_sizes), kernel_size=np.random.choice(kernel_sizes), padding='same'))\n",
    "        #    model.add(Activation(np.random.choice(activations)))\n",
    "        #    model.add(MaxPooling1D(pool_size=np.random.choice(pool_sizes)))\n",
    "        #    model.add(Dropout(dropout))\n",
    "        model.add(Flatten())\n",
    "        model.add(Dense(np.random.choice(dense_sizes), activation=random.choice(activations), name='CNN_dense'+str(i)))\n",
    "        model.add(Dense(1, name='CNN_output'+str(i)))\n",
    "    except ValueError:\n",
    "        length = np.random.randint(2,10)        \n",
    "        model = Sequential()\n",
    "        model.add(Conv1D(filters=np.random.choice(filter_sizes), padding='same', kernel_size=np.random.choice(kernel_sizes), activation=random.choice(activations), input_shape=(look_back, 1), name='CNN_input'+str(i)))\n",
    "        model.add(MaxPooling1D(pool_size=np.random.choice(pool_sizes)))\n",
    "        #for _ in range(layers):\n",
    "        #    model.add(Conv1D(filters=np.random.choice(filter_sizes), kernel_size=np.random.choice(kernel_sizes), padding='same'))\n",
    "        #    model.add(Activation(np.random.choice(activations)))\n",
    "        #    model.add(MaxPooling1D(pool_size=np.random.choice(pool_sizes)))\n",
    "        #    model.add(Dropout(dropout))\n",
    "        model.add(Flatten())\n",
    "        model.add(Dense(np.random.choice(dense_sizes), activation=random.choice(activations), name='CNN_dense'+str(i)))\n",
    "        model.add(Dense(1, name='CNN_output'+str(i)))\n",
    "    return model"
   ]
  },
  {
   "cell_type": "code",
   "execution_count": 7,
   "metadata": {},
   "outputs": [],
   "source": [
    "def build_LSTM(layers, layer_factor):\n",
    "    look_back = 10\n",
    "    Architecture = np.zeros(layers)\n",
    "    \n",
    "    model = Sequential()\n",
    "    Architecture[0] = np.random.randint(1,10)*layer_factor\n",
    "    model.add(LSTM(Architecture[0].astype(int), return_sequences=True, input_shape=(look_back, 1)))\n",
    "    if layers > 1:\n",
    "        for i in range(1,layers-1):\n",
    "            Architecture[i] = np.random.randint(1,10)*layer_factor\n",
    "            model.add(LSTM(Architecture[i].astype(int), return_sequences=True))\n",
    "        Architecture[layers-1] = np.random.randint(1,10)*layer_factor\n",
    "        model.add(LSTM(Architecture[layers-1].astype(int), return_sequences=False))\n",
    "    Architecture = np.append(Architecture,np.random.choice(len(activation_dict)))\n",
    "    model.add(Dense(1, activation=activation_dict[str(Architecture[-1].astype(int))]))\n",
    "    \n",
    "    return model, Architecture"
   ]
  },
  {
   "cell_type": "code",
   "execution_count": 8,
   "metadata": {},
   "outputs": [],
   "source": [
    "def build_DNN(i):\n",
    "    input_neurons = np.random.randint(1,10)*10\n",
    "    hidden_neurons = np.random.randint(2,50)*100\n",
    "    activations = ['relu', 'elu', 'sigmoid', 'tanh']\n",
    "    dropout = np.random.randint(1,5)*0.1\n",
    "    model = Sequential()\n",
    "    model.add(Dense(input_neurons, activation=random.choice(activations), input_dim=look_back, name='DNN_input'+str(i)))\n",
    "    model.add(Dropout(dropout))\n",
    "    model.add(Dense(hidden_neurons, name='DNN_last'+str(i)))\n",
    "    model.add(Dense(1, name='DNN_output'+str(i)))\n",
    "    return model"
   ]
  },
  {
   "cell_type": "code",
   "execution_count": 9,
   "metadata": {},
   "outputs": [],
   "source": [
    "def reset_weights(model):\n",
    "    session = keras.get_session()\n",
    "    for layer in model.layers: \n",
    "        if hasattr(layer, 'initializer'):\n",
    "            layer.kernel.initializer.run(session=session)"
   ]
  },
  {
   "cell_type": "code",
   "execution_count": 10,
   "metadata": {},
   "outputs": [],
   "source": [
    "data = pd.read_csv('healthy_person1.csv') \n",
    "data = np.array(data['raw_value'])\n",
    "data = data.astype(float)\n",
    "max_data = np.max(data)\n",
    "for i in range(len(data)):\n",
    "    data[i] = data[i] / max_data\n",
    "\n",
    "r = 5"
   ]
  },
  {
   "cell_type": "code",
   "execution_count": 11,
   "metadata": {},
   "outputs": [],
   "source": [
    "for _ in range(r):\n",
    "    data = np.append(data,data)\n",
    "signal_length = 155\n",
    "T = len(data) / signal_length\n",
    "T = 1000"
   ]
  },
  {
   "cell_type": "code",
   "execution_count": 12,
   "metadata": {},
   "outputs": [],
   "source": [
    "#model = CNN_MODELS[0]\n",
    "#model.summary()"
   ]
  },
  {
   "cell_type": "code",
   "execution_count": 13,
   "metadata": {},
   "outputs": [],
   "source": [
    "architecture = 'LSTM'\n",
    "model_num = 8\n",
    "#model = load_model(os.getcwd()+'/'+architecture+'_'+str(model_num)+'.h5')\n",
    "#model.summary()"
   ]
  },
  {
   "cell_type": "code",
   "execution_count": 14,
   "metadata": {},
   "outputs": [
    {
     "name": "stdout",
     "output_type": "stream",
     "text": [
      "_________________________________________________________________\n",
      "Layer (type)                 Output Shape              Param #   \n",
      "=================================================================\n",
      "lstm_1 (LSTM)                (None, 10, 200)           161600    \n",
      "_________________________________________________________________\n",
      "lstm_2 (LSTM)                (None, 225)               383400    \n",
      "_________________________________________________________________\n",
      "dense_1 (Dense)              (None, 1)                 226       \n",
      "=================================================================\n",
      "Total params: 545,226\n",
      "Trainable params: 545,226\n",
      "Non-trainable params: 0\n",
      "_________________________________________________________________\n"
     ]
    }
   ],
   "source": [
    "#model, Architecture = build_CNN_(layers=5, filter_sizes=[512,1024,2048], activations=['relu'], dense_sizes=[50])\n",
    "model, Architecture = build_LSTM(layers=2, layer_factor=25)\n",
    "model.summary()"
   ]
  },
  {
   "cell_type": "code",
   "execution_count": 15,
   "metadata": {},
   "outputs": [],
   "source": [
    "model.compile(loss='mean_squared_error', optimizer='adam')\n",
    "model.save(os.getcwd()+'/'+architecture+'_'+str(model_num)+'.h5')\n",
    "np.save(os.getcwd()+'/Architecture_'+str(model_num)+'.npy', Architecture)"
   ]
  },
  {
   "cell_type": "code",
   "execution_count": 16,
   "metadata": {},
   "outputs": [],
   "source": [
    "pop_size = 8\n",
    "pop_num = 2**pop_size\n",
    "N = pop_num\n",
    "Pop_num = N\n",
    "T = 1000\n",
    "#model_num = int(model_num*10)"
   ]
  },
  {
   "cell_type": "code",
   "execution_count": null,
   "metadata": {
    "scrolled": false
   },
   "outputs": [
    {
     "name": "stdout",
     "output_type": "stream",
     "text": [
      "*************************** Iteration 0 **************************************\n",
      "0 256\n",
      "Train on 149 samples, validate on 150 samples\n",
      "Epoch 1/1\n",
      "149/149 [==============================] - 14s 92ms/step - loss: 0.0096 - val_loss: 0.0091\n",
      "1 256\n",
      "Train on 149 samples, validate on 150 samples\n",
      "Epoch 1/1\n",
      "149/149 [==============================] - 14s 94ms/step - loss: 0.0088 - val_loss: 0.0076\n",
      "2 256\n",
      "Train on 149 samples, validate on 150 samples\n",
      "Epoch 1/1\n",
      "149/149 [==============================] - 12s 82ms/step - loss: 0.0083 - val_loss: 0.0064\n",
      "3 256\n",
      "Train on 149 samples, validate on 150 samples\n",
      "Epoch 1/1\n",
      "149/149 [==============================] - 10s 69ms/step - loss: 0.0070 - val_loss: 0.0068\n",
      "4 256\n",
      "Train on 149 samples, validate on 150 samples\n",
      "Epoch 1/1\n",
      "149/149 [==============================] - 11s 73ms/step - loss: 0.0064 - val_loss: 0.0055\n",
      "5 256\n",
      "Train on 149 samples, validate on 150 samples\n",
      "Epoch 1/1\n",
      "149/149 [==============================] - 11s 76ms/step - loss: 0.0064 - val_loss: 0.0049\n",
      "6 256\n",
      "Train on 149 samples, validate on 150 samples\n",
      "Epoch 1/1\n",
      "149/149 [==============================] - 11s 75ms/step - loss: 0.0063 - val_loss: 0.0054\n",
      "7 256\n",
      "Train on 149 samples, validate on 150 samples\n",
      "Epoch 1/1\n",
      " 94/149 [=================>............] - ETA: 3s - loss: 0.0062"
     ]
    }
   ],
   "source": [
    "%%time\n",
    "l_r = 'test'\n",
    "reset_weights(model)\n",
    "num = np.floor(0.1 * pop_num)\n",
    "if num < 1:\n",
    "    num = 1\n",
    "else:\n",
    "    num = num.astype(int)\n",
    "History = np.zeros(pop_num)\n",
    "History[:] = np.nan\n",
    "HISTORY = np.zeros([T,pop_num])\n",
    "HISTORY[:] = np.nan\n",
    "Weights=[{} for i in range(pop_num)]\n",
    "Models=[{} for i in range(pop_num)]\n",
    "\n",
    "alpha = 0\n",
    "\n",
    "for t in range(T):\n",
    "    print '*************************** Iteration {} **************************************'.format(t)\n",
    "    y1 = data[t*signal_length : t*signal_length + 2*signal_length]\n",
    "    if architecture == 'DNN':\n",
    "        trainX, trainY = fns.create_dataset(y1, look_back)\n",
    "    else:\n",
    "        trainX_, trainY = fns.create_dataset(y1, look_back)\n",
    "        trainX = np.reshape(trainX_, (trainX_.shape[0], trainX_.shape[1], 1))\n",
    "    \n",
    "    for i in range(pop_num):\n",
    "        print i, pop_num\n",
    "        learning_rate = np.random.uniform(low=0.0, high=0.001/np.float(t+1))\n",
    "        keras.set_value(model.optimizer.lr, learning_rate)\n",
    "        history = model.fit(trainX, trainY, validation_split=0.5, epochs=1, batch_size=1, verbose=1)\n",
    "        Weights[i] = model.get_weights()\n",
    "        History[i] = history.history['val_loss'][0]\n",
    "\n",
    "    if pop_num > 1:\n",
    "        pop_num = int(0.5*pop_num)\n",
    "    \n",
    "    idx_best = np.argsort(History)[:num]\n",
    "\n",
    "    #if t == 0:\n",
    "    #    History_old = History\n",
    "    #    Weights_old = Weights\n",
    "    #    idx_old = idx_best\n",
    "\n",
    "    #if t > 0:\n",
    "    #    if np.mean(History) > np.mean(History_old):\n",
    "    #        History = History_old\n",
    "    #        Weights = Weights_old\n",
    "    #        idx_best = idx_old\n",
    "\n",
    "    # find num best performing models\n",
    "    weights = [Weights[idx] for idx in idx_best]\n",
    "    new_weights = list()\n",
    "\n",
    "    # average weight of num best performing models\n",
    "    for weights_list_tuple in zip(*weights):\n",
    "        new_weights.append(\n",
    "            [np.array(weights_).mean(axis=0)\\\n",
    "                for weights_ in zip(*weights_list_tuple)])\n",
    "\n",
    "    if len(History) < N:\n",
    "        buffer1 = np.zeros(N-len(History))\n",
    "        buffer1[:] = np.nan\n",
    "        History = np.append(History, buffer1)\n",
    "    HISTORY[t] = History\n",
    "    History[:] = np.nan\n",
    "\n",
    "    #if t > 0:\n",
    "    #    if np.median(HISTORY[t]) < np.median(HISTORY[t-1]):\n",
    "    #        alpha = alpha * 0.05\n",
    "    #    elif alpha < 1:\n",
    "    #        alpha = alpha + 0.01\n",
    "    #    new_weights = np.asarray(new_weights)\n",
    "    #    Weights = np.asarray(Weights)\n",
    "    #    new_weights = [[x*alpha for x in y] for y in new_weights] + [[x*(1-alpha) for x in y] for y in Weights] \n",
    "\n",
    "    model.set_weights(new_weights)\n",
    "\n",
    "    #print 'Alpha: ', alpha\n",
    "    np.savetxt(architecture+str(model_num)+'_HISTORY_'+str(Pop_num)+str(l_r), HISTORY, delimiter=',')\n"
   ]
  },
  {
   "cell_type": "code",
   "execution_count": 27,
   "metadata": {},
   "outputs": [
    {
     "data": {
      "text/plain": [
       "array([[6.19390723e-05, 4.02023412e-05, 3.41647607e-05, ...,\n",
       "        6.33716903e-05, 1.29757064e-04, 2.81492117e-05],\n",
       "       [4.58472780e-05, 5.76174457e-05, 7.74728775e-05, ...,\n",
       "                   nan,            nan,            nan],\n",
       "       [5.96120748e-05, 2.80784048e-05, 4.39034803e-05, ...,\n",
       "                   nan,            nan,            nan],\n",
       "       ...,\n",
       "       [3.36027910e-05,            nan,            nan, ...,\n",
       "                   nan,            nan,            nan],\n",
       "       [5.75801904e-05,            nan,            nan, ...,\n",
       "                   nan,            nan,            nan],\n",
       "       [3.90416837e-05,            nan,            nan, ...,\n",
       "                   nan,            nan,            nan]])"
      ]
     },
     "execution_count": 27,
     "metadata": {},
     "output_type": "execute_result"
    }
   ],
   "source": [
    "HISTORY"
   ]
  },
  {
   "cell_type": "code",
   "execution_count": null,
   "metadata": {},
   "outputs": [],
   "source": []
  },
  {
   "cell_type": "code",
   "execution_count": null,
   "metadata": {},
   "outputs": [],
   "source": []
  },
  {
   "cell_type": "code",
   "execution_count": 92,
   "metadata": {},
   "outputs": [],
   "source": [
    "CNN_100 = np.loadtxt(architecture+str(model_num)+'_HISTORY_'+str(Pop_num)+str(j)+str(l_r), delimiter=',')"
   ]
  },
  {
   "cell_type": "code",
   "execution_count": 93,
   "metadata": {},
   "outputs": [],
   "source": [
    "LSTM_40 = np.loadtxt('LSTM40_HISTORY_'+str(Pop_num)+str(j)+str(l_r), delimiter=',')"
   ]
  },
  {
   "cell_type": "code",
   "execution_count": 81,
   "metadata": {},
   "outputs": [],
   "source": [
    "test_history_ = np.isnan(LSTM_40)\n",
    "test_history_1 = test_history\n",
    "test_history_1[test_history_] = 0"
   ]
  },
  {
   "cell_type": "code",
   "execution_count": 94,
   "metadata": {},
   "outputs": [],
   "source": [
    "CNN_100_ = np.isnan(CNN_100)\n",
    "CNN_100_1 = CNN_100\n",
    "CNN_100_1[CNN_100_] = 0"
   ]
  },
  {
   "cell_type": "code",
   "execution_count": 96,
   "metadata": {},
   "outputs": [],
   "source": [
    "test_data = np.zeros(T)\n",
    "CNN_data = np.zeros(T)\n",
    "for i in range(T):\n",
    "    test_data[i] = test_history_1[i,:][np.nonzero(test_history_1[i,:])].mean()\n",
    "    CNN_data[i] = CNN_100_1[i,:][np.nonzero(CNN_100_1[i,:])].mean()\n",
    "test_data1 = fns.expMa(test_data,10)\n",
    "CNN_data1 = fns.expMa(CNN_data,10)"
   ]
  },
  {
   "cell_type": "code",
   "execution_count": 98,
   "metadata": {},
   "outputs": [
    {
     "data": {
      "image/png": "[encoded data removed]",
      "text/plain": [
       "<matplotlib.figure.Figure at 0x7f93441e8dd0>"
      ]
     },
     "metadata": {
      "needs_background": "light"
     },
     "output_type": "display_data"
    }
   ],
   "source": [
    "plt.figure(figsize=(20,10))\n",
    "plt.plot(test_data1, 'k', linewidth=1, label='LSTM test')\n",
    "plt.plot(CNN_data1, 'b', linewidth=1, label='CNN test')\n",
    "plt.legend(loc='upper right')\n",
    "plt.xlabel('Iteration')\n",
    "plt.ylabel('Loss')\n",
    "#plt.ylim([0,0.0001])\n",
    "#plt.xlim([0,T])\n",
    "plt.xlim([0,200])\n",
    "plt.show()"
   ]
  },
  {
   "cell_type": "code",
   "execution_count": null,
   "metadata": {},
   "outputs": [],
   "source": []
  },
  {
   "cell_type": "code",
   "execution_count": null,
   "metadata": {},
   "outputs": [],
   "source": []
  },
  {
   "cell_type": "code",
   "execution_count": null,
   "metadata": {},
   "outputs": [],
   "source": []
  }
 ],
 "metadata": {
  "kernelspec": {
   "display_name": "Python 2",
   "language": "python",
   "name": "python2"
  },
  "language_info": {
   "codemirror_mode": {
    "name": "ipython",
    "version": 2
   },
   "file_extension": ".py",
   "mimetype": "text/x-python",
   "name": "python",
   "nbconvert_exporter": "python",
   "pygments_lexer": "ipython2",
   "version": "2.7.12"
  }
 },
 "nbformat": 4,
 "nbformat_minor": 2
}
