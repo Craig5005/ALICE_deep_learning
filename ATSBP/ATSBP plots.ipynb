{
 "cells": [
  {
   "cell_type": "markdown",
   "metadata": {},
   "source": [
    "# Adversarial thresholding semi-bandits\n",
    "## Empirical analysis"
   ]
  },
  {
   "cell_type": "code",
   "execution_count": null,
   "metadata": {},
   "outputs": [],
   "source": [
    "import numpy as np\n",
    "import matplotlib.pyplot as plt\n",
    "import pandas as pd\n",
    "import os"
   ]
  },
  {
   "cell_type": "markdown",
   "metadata": {},
   "source": [
    "## Import ALICE TRD Anode current dataset"
   ]
  },
  {
   "cell_type": "code",
   "execution_count": null,
   "metadata": {},
   "outputs": [],
   "source": [
    "os.chdir('/home/bower5005/ALICE_TRD/ALICE_TRD_HV')\n",
    "Yc_ = np.load(os.getcwd()+'/Yc_.npz')\n",
    "Yc_ = Yc_['arr_0']\n",
    "T = np.shape(Yc_)[0]\n",
    "K = np.shape(Yc_)[1]"
   ]
  },
  {
   "cell_type": "markdown",
   "metadata": {},
   "source": [
    "## Plot dataset"
   ]
  },
  {
   "cell_type": "code",
   "execution_count": null,
   "metadata": {},
   "outputs": [],
   "source": [
    "plt.figure(figsize=(30,10))\n",
    "font_size = 25\n",
    "\n",
    "plt.plot(Yc_, color='blue', alpha=0.2)\n",
    "plt.plot(Yc_[:,3], color='red')\n",
    "\n",
    "ITRIPLimit = np.zeros(T)\n",
    "ITRIPLimit[:] = np.nan\n",
    "ITRIPLimit[:17533] = 12/np.float(15)\n",
    "ITRIPLimit[17533:] = 20/np.float(15)\n",
    "plt.plot(ITRIPLimit, color='black')\n",
    "\n",
    "plt.xlim([0,T])\n",
    "plt.ylim([0,20.1/np.float(15)])\n",
    "\n",
    "plt.xlabel('Time stamp', fontsize=font_size)\n",
    "plt.ylabel(r'TRD Anode Current, $\\mu\\,$A', fontsize=font_size)\n",
    "plt.tick_params(labelsize=font_size)\n",
    "plt.rc('font', size=font_size)\n",
    "#plt.ticklabel_format(style='sci', axis='x', scilimits=(0,0), useMathText=True)\n",
    "dates = ['2018-06-09 12:00:00', '18:00:00', '2018-06-10 00:00:00', '06:00:00', '12:00:00', '18:00:00', '2018-06-11 00:00:00']\n",
    "dates = ['12:00:00 \\n09-06-2018', '18:00:00', '00:00:00 \\n10-06-2018', '06:00:00', '12:00:00', '18:00:00', '00:00:00 \\n11-06-2018']\n",
    "plt.xticks(np.arange(0,T+1,T/np.float(6)), dates, rotation=45, fontsize=font_size, horizontalalignment='right')\n",
    "plt.xticks(np.arange(0,T+1,T/np.float(6)), dates, fontsize=font_size, rotation=0, horizontalalignment='center')\n",
    "plt.yticks(np.arange(0,1.1+1/np.float(3),1/np.float(3)), [0,5,10,15,20], fontsize=font_size)\n",
    "plt.show()"
   ]
  },
  {
   "cell_type": "markdown",
   "metadata": {},
   "source": [
    "## Import empirical results"
   ]
  },
  {
   "cell_type": "code",
   "execution_count": null,
   "metadata": {},
   "outputs": [],
   "source": [
    "os.chdir('/home/bower5005/Downloads')\n",
    "files = sorted(os.listdir())\n",
    "for i in range(len(files)):\n",
    "    print(i, files[i])"
   ]
  },
  {
   "cell_type": "markdown",
   "metadata": {},
   "source": [
    "## Plot ATSBP regret"
   ]
  },
  {
   "cell_type": "code",
   "execution_count": null,
   "metadata": {},
   "outputs": [],
   "source": [
    "length = np.int(0.5*len(files))\n",
    "REGRET = [[] for i in range(length)]\n",
    "for i in range(length):\n",
    "    REGRET[i] = np.load(os.getcwd()+'/'+str(files[i+length]))\n",
    "    REGRET[i] = REGRET[i]['arr_0']\n",
    "\n",
    "if REGRET[0].shape[1] == 50000:\n",
    "    T = 50000\n",
    "else:\n",
    "    T=64800\n",
    "\n",
    "if REGRET[0].shape[0] == 10 and REGRET[0].shape[1] == T:\n",
    "    for i in range(length):\n",
    "        REGRET[i] = np.transpose(REGRET[i])\n",
    "\n",
    "Fixed_T1 = np.zeros([T,length])\n",
    "Fixed_T2 = np.zeros([T,length])\n",
    "confidence_gap = 5000\n",
    "position = np.arange(0,T,confidence_gap)\n",
    "for i in range(length):\n",
    "    Fixed_T1[:,i] = np.median(REGRET[i], axis=1)\n",
    "    q1 = np.percentile(REGRET[i], 75, axis=1)\n",
    "    q2 = np.percentile(REGRET[i], 25, axis=1)\n",
    "    e_bar = np.array(q1 - q2)\n",
    "    Fixed_T2[:,i] = np.nan\n",
    "    Fixed_T2[np.arange(0,T,confidence_gap),i] = e_bar[np.arange(0,T,confidence_gap)]"
   ]
  },
  {
   "cell_type": "code",
   "execution_count": null,
   "metadata": {},
   "outputs": [],
   "source": [
    "plt.figure(figsize=(10,10))\n",
    "Rounds = np.arange(T)\n",
    "font_size = 25\n",
    "colors_ = ['blue', 'red', 'yellowgreen', 'magenta', 'gold', 'black', 'purple', 'orange']\n",
    "\n",
    "#Labels = [r'LET-Exp3.M, $\\epsilon=0.7$', r'LET-Exp3.M, $\\epsilon=0.8$', r'LET-Exp3.M, $\\epsilon=0.9$', r'T-Exp3.M, $\\epsilon=1$']\n",
    "#Labels = ['k=5', 'k=10', 'k=15', 'k=20']\n",
    "Labels = [r'$t_{max}=1\\,$min', r'$t_{max}=5\\,$mins', r'$t_{max}=10\\,$mins', r'$t_{max}=15\\,$mins', r'$t_{max}=30\\,$mins', r'$t_{max}=60\\,$mins']\n",
    "#Labels = [r'$t_{max}=1\\,$min', r'$t_{max}=10\\,$mins', r'$t_{max}=30\\,$mins', r'$t_{max}=60\\,$mins']\n",
    "#Labels = [r'AliceBandit, $t_{max}=1\\,$min', r'AliceBandit, $t_{max}=5\\,$mins', r'AliceBandit, $t_{max}=10\\,$mins', r'AliceBandit, $t_{max}=15\\,$mins', r'AliceBandit, $t_{max}=30\\,$mins', r'AliceBandit, $t_{max}=60\\,$mins',r'T-Exp3.M, $\\epsilon=1$',r'dLET-Exp3.M, $\\epsilon=1$, k=15']\n",
    "\n",
    "for i in range(length):\n",
    "    plt.errorbar(Rounds, Fixed_T1[:,i], yerr=Fixed_T2[:,i], capsize=2, color=colors_[i], label=str(Labels[i]), linewidth=1)\n",
    "    \n",
    "x_max = T\n",
    "y_max = np.ceil((np.max(Fixed_T1)+np.nanmax(Fixed_T2))/25)*25\n",
    "y_max = 1500\n",
    "\n",
    "plt.xlim([0,x_max])\n",
    "plt.ylim([0,y_max])\n",
    "\n",
    "#plt.yticks(np.arange(0,y_max+1,y_max*0.25), fontsize=font_size)\n",
    "plt.tick_params(labelsize=font_size)\n",
    "plt.rc('font', size=font_size)\n",
    "plt.ticklabel_format(style='sci', axis='x', scilimits=(0,0), useMathText=True)\n",
    "#plt.ylabel('Cumulative regret', fontsize=font_size)\n",
    "plt.ylabel('Cumulative reward', fontsize=font_size)\n",
    "plt.xlabel('Round', fontsize=font_size)\n",
    "\n",
    "plt.legend(loc='best', fontsize=font_size)\n",
    "plt.tight_layout()\n",
    "plt.show()"
   ]
  },
  {
   "cell_type": "code",
   "execution_count": null,
   "metadata": {},
   "outputs": [],
   "source": [
    "length = np.int(0.5*len(files))\n",
    "CUMP = [[] for i in range(length)]\n",
    "for i in range(length):\n",
    "    CUMP[i] = np.load(os.getcwd()+'/'+str(files[i]))\n",
    "    CUMP[i] = CUMP[i]['arr_0']"
   ]
  },
  {
   "cell_type": "markdown",
   "metadata": {},
   "source": [
    "## Plot Cumulative pull frequency"
   ]
  },
  {
   "cell_type": "code",
   "execution_count": null,
   "metadata": {
    "scrolled": false
   },
   "outputs": [],
   "source": [
    "n_row = 2\n",
    "n_col = 3\n",
    "size = 10\n",
    "fig, ax = plt.subplots(n_col,n_row, figsize=(n_row*size,n_col*size))\n",
    "font_size = 25\n",
    "plt.tick_params(labelsize=font_size)\n",
    "plt.rc('font', size=font_size)\n",
    "count = 0\n",
    "colors_ = ['red', 'yellowgreen', 'magenta', 'orange', 'purple']\n",
    "for i in range(n_col):\n",
    "    for j in range(n_row):\n",
    "        a = np.mean(CUMP[count], axis=0)\n",
    "        if T == 64800:\n",
    "            arms = [3,4,27]\n",
    "        elif T == 50000:\n",
    "            arms = [0,1,2,3,4]\n",
    "        for arm in arms:\n",
    "            ax[i,j].plot(a[:,arm], color=colors_[arm], alpha=1, label='Arm {}'.format(arm))\n",
    "        ax[i,j].plot(a, color='blue', alpha=0.2)\n",
    "        ax[i,j].plot(a[:,5], color='blue', alpha=0.2, label='Arms 5-9')\n",
    "        #ax[i,j].axvline(x=14465, color='black', linewidth=1)\n",
    "        #ax[i,j].axvline(x=17533, color='black', linewidth=1)\n",
    "        #ax[i,j].axvline(x=28928, color='black', linewidth=1)\n",
    "        \n",
    "        x_max = T\n",
    "        if i == 0 and j == 0:\n",
    "            y_max = 2250\n",
    "        else:\n",
    "            y_max = 1500\n",
    "        ax[i,j].set_xlim([0,x_max])\n",
    "        ax[i,j].set_ylim([0,y_max])\n",
    "        ax[i,j].set_xticks(np.arange(0,x_max+1,x_max*0.25))\n",
    "        ax[i,j].set_yticks(np.arange(0,y_max+1,y_max*0.25))\n",
    "        ax[i,j].ticklabel_format(style='sci', axis='x', scilimits=(0,0), useMathText=True)\n",
    "        ax[i,j].set_ylabel('Cumulative pull frequency')\n",
    "        ax[i,j].set_xlabel('Round', fontsize=font_size)\n",
    "        count += 1\n",
    "ax[0,0].legend(loc='best')\n",
    "plt.tight_layout()"
   ]
  }
 ],
 "metadata": {
  "kernelspec": {
   "display_name": "Python 3",
   "language": "python",
   "name": "python3"
  },
  "language_info": {
   "codemirror_mode": {
    "name": "ipython",
    "version": 3
   },
   "file_extension": ".py",
   "mimetype": "text/x-python",
   "name": "python",
   "nbconvert_exporter": "python",
   "pygments_lexer": "ipython3",
   "version": "3.6.9"
  }
 },
 "nbformat": 4,
 "nbformat_minor": 4
}
